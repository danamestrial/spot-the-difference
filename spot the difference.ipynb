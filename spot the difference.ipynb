{
 "cells": [
  {
   "cell_type": "markdown",
   "id": "3ef9853a",
   "metadata": {},
   "source": [
    "# Spot the difference\n",
    "\n",
    "So in this num(meth)math project I shall be doing a basic\n",
    "spotting the difference program \\\n",
    "\\\n",
    "Theres two method of doing this, one method is the easy way of importing a library and everything could be done in 4 lines of code and of course the hard way which is doing it using matplotlib, and we will doing both method, because where is the fun in just importing a library that could do that in two lines"
   ]
  }
 ],
 "metadata": {
  "kernelspec": {
   "display_name": "Python 3 (ipykernel)",
   "language": "python",
   "name": "python3"
  },
  "language_info": {
   "codemirror_mode": {
    "name": "ipython",
    "version": 3
   },
   "file_extension": ".py",
   "mimetype": "text/x-python",
   "name": "python",
   "nbconvert_exporter": "python",
   "pygments_lexer": "ipython3",
   "version": "3.9.10"
  }
 },
 "nbformat": 4,
 "nbformat_minor": 5
}
