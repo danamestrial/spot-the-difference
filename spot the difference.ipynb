{
 "cells": [
  {
   "cell_type": "markdown",
   "id": "3ef9853a",
   "metadata": {},
   "source": [
    "# Spot the difference\n",
    "\n",
    "So in this num(meth)math project I shall be doing a basic\n",
    "spotting the difference program \\\n",
    "\\\n",
    "Theres two method of doing this, one method is the easy way of importing a library and everything could be done in 4 lines of code and of course the hard way which is doing it using matplotlib, and we will doing both method, because where is the fun in just importing a library that could do that in two lines"
   ]
  },
  {
   "cell_type": "markdown",
   "id": "1cfa7cc9",
   "metadata": {},
   "source": [
    "## Image Spliter\n",
    "\\\n",
    "If the image to compare is one picture we have to split the image using a image-slicer library \\\n",
    "We have to install the image_slicer library using \\\n",
    "``pip install image_slicer``"
   ]
  },
  {
   "cell_type": "code",
   "execution_count": 93,
   "id": "bd2308d5",
   "metadata": {},
   "outputs": [],
   "source": [
    "# Import the good stuff\n",
    "\n",
    "from image_slicer import slice"
   ]
  },
  {
   "cell_type": "code",
   "execution_count": 95,
   "id": "f6a743b5",
   "metadata": {},
   "outputs": [
    {
     "data": {
      "text/plain": [
       "(<Tile #1 - image_01_01.png>, <Tile #2 - image_01_02.png>)"
      ]
     },
     "execution_count": 95,
     "metadata": {},
     "output_type": "execute_result"
    }
   ],
   "source": [
    "# Path of the image\n",
    "\n",
    "path = \"Split/image.jpeg\"\n",
    "\n",
    "# Slice the image into 2\n",
    "\n",
    "slice(path, 2)"
   ]
  },
  {
   "cell_type": "markdown",
   "id": "94bd009e",
   "metadata": {},
   "source": [
    "### Now we have two images\n",
    "\n",
    "<table><tr>\n",
    "<td> <img src=\"Split/image_01_01.png\" alt=\"Drawing\" style=\"width: 250px;\"/> </td>\n",
    "<td> <img src=\"Split/image_01_02.png\" alt=\"Drawing\" style=\"width: 250px;\"/> </td>\n",
    "</tr></table>"
   ]
  }
 ],
 "metadata": {
  "kernelspec": {
   "display_name": "Python 3 (ipykernel)",
   "language": "python",
   "name": "python3"
  },
  "language_info": {
   "codemirror_mode": {
    "name": "ipython",
    "version": 3
   },
   "file_extension": ".py",
   "mimetype": "text/x-python",
   "name": "python",
   "nbconvert_exporter": "python",
   "pygments_lexer": "ipython3",
   "version": "3.9.10"
  }
 },
 "nbformat": 4,
 "nbformat_minor": 5
}
