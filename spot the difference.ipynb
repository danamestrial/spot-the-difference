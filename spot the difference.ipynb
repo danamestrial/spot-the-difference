{
 "cells": [
  {
   "cell_type": "markdown",
   "id": "3ef9853a",
   "metadata": {},
   "source": [
    "# Spot the difference\n",
    "\n",
    "So in this num(meth)math project I shall be doing a basic\n",
    "spotting the difference program \\\n",
    "\\\n",
    "Theres two method of doing this, one method is the easy way of importing a library and everything could be done in 4 lines of code and of course the hard way which is doing it using matplotlib, and we will doing both method, because where is the fun in just importing a library that could do that in two lines"
   ]
  },
  {
   "cell_type": "markdown",
   "id": "fa19561d",
   "metadata": {},
   "source": [
    "## Image Spliter\n",
    "\\\n",
    "If the image to compare is one picture we have to split the image using a image-slicer library \\\n",
    "We have to install the image_slicer library using \\\n",
    "``pip install image_slicer``"
   ]
  },
  {
   "cell_type": "code",
   "execution_count": 93,
   "id": "9cf08c0b",
   "metadata": {},
   "outputs": [],
   "source": [
    "# Import the good stuff\n",
    "\n",
    "from image_slicer import slice"
   ]
  },
  {
   "cell_type": "code",
   "execution_count": 95,
   "id": "82711a01",
   "metadata": {},
   "outputs": [
    {
     "data": {
      "text/plain": [
       "(<Tile #1 - image_01_01.png>, <Tile #2 - image_01_02.png>)"
      ]
     },
     "execution_count": 95,
     "metadata": {},
     "output_type": "execute_result"
    }
   ],
   "source": [
    "# Path of the image\n",
    "\n",
    "path = \"Split/image.jpeg\"\n",
    "\n",
    "# Slice the image into 2\n",
    "\n",
    "slice(path, 2)"
   ]
  },
  {
   "cell_type": "markdown",
   "id": "3da0febd",
   "metadata": {},
   "source": [
    "### Now we have two images\n",
    "\n",
    "<table><tr>\n",
    "<td> <img src=\"Split/image_01_01.png\" alt=\"Drawing\" style=\"width: 250px;\"/> </td>\n",
    "<td> <img src=\"Split/image_01_02.png\" alt=\"Drawing\" style=\"width: 250px;\"/> </td>\n",
    "</tr></table>"
   ]
  },
  {
   "cell_type": "markdown",
   "id": "482f723e",
   "metadata": {},
   "source": [
    "### Path to the two file"
   ]
  },
  {
   "cell_type": "code",
   "execution_count": 24,
   "id": "9e046d5a",
   "metadata": {},
   "outputs": [],
   "source": [
    "img1path = \"Spot1/Spot1_01_01.png\"\n",
    "img2path = \"Spot1/Spot1_01_02.png\""
   ]
  },
  {
   "cell_type": "markdown",
   "id": "c3ed7eb7",
   "metadata": {},
   "source": [
    "## Method 1 - the easy way\n",
    "(props to geeksforgeeks)\\\n",
    "We will be using a library called \"Pillow\""
   ]
  },
  {
   "cell_type": "markdown",
   "id": "9fa45521",
   "metadata": {},
   "source": [
    "1. Install pillow using\n",
    "``pip install pillow``"
   ]
  },
  {
   "cell_type": "markdown",
   "id": "e5d5451e",
   "metadata": {},
   "source": [
    "2. We start implementing"
   ]
  },
  {
   "cell_type": "code",
   "execution_count": 25,
   "id": "bf080d02",
   "metadata": {},
   "outputs": [],
   "source": [
    "# Import the good stuff\n",
    "\n",
    "from PIL import Image, ImageChops"
   ]
  },
  {
   "cell_type": "code",
   "execution_count": 26,
   "id": "440b4975",
   "metadata": {},
   "outputs": [],
   "source": [
    "# The case that you have two seperate images to compare\n",
    "\n",
    "img1 = Image.open(img1path)\n",
    "img2 = Image.open(img2path)"
   ]
  },
  {
   "cell_type": "code",
   "execution_count": 28,
   "id": "fd16c2b8",
   "metadata": {},
   "outputs": [],
   "source": [
    "# finding difference\n",
    "\n",
    "diff = ImageChops.difference(img1, img2)\n",
    "  \n",
    "# showing the difference\n",
    "\n",
    "diff.save(\"result.jpeg\")"
   ]
  },
  {
   "cell_type": "markdown",
   "id": "bb83bf6f",
   "metadata": {},
   "source": [
    "#### Result\n",
    "\n",
    "<table><tr>\n",
    "<td> <img src=\"Spot1/1img.jpeg\" alt=\"Drawing\" style=\"width: 250px;\"/> </td>\n",
    "<td> <img src=\"result.jpeg\" alt=\"Drawing\" style=\"width: 250px;\"/> </td>\n",
    "<td> <img src=\"Spot1/2img.jpeg\" alt=\"Drawing\" style=\"width: 250px;\"/> </td>\n",
    "</tr></table>"
   ]
  },
  {
   "cell_type": "markdown",
   "id": "3291304f",
   "metadata": {},
   "source": [
    "I know the output is a bit hard to see but you can match it with the original image to see the difference"
   ]
  }
 ],
 "metadata": {
  "kernelspec": {
   "display_name": "Python 3 (ipykernel)",
   "language": "python",
   "name": "python3"
  },
  "language_info": {
   "codemirror_mode": {
    "name": "ipython",
    "version": 3
   },
   "file_extension": ".py",
   "mimetype": "text/x-python",
   "name": "python",
   "nbconvert_exporter": "python",
   "pygments_lexer": "ipython3",
   "version": "3.9.10"
  }
 },
 "nbformat": 4,
 "nbformat_minor": 5
}
