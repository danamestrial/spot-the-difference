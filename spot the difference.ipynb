{
 "cells": [
  {
   "cell_type": "markdown",
   "id": "3ef9853a",
   "metadata": {},
   "source": [
    "# Spot the difference\n",
    "\n",
    "Please clone the repo with all the images so that you get a smoother experience \\\n",
    "git repo: https://github.com/danamestrial/spot-the-difference\n",
    "\n",
    "So in this num(meth)math project I shall be doing a basic\n",
    "spotting the difference program \\\n",
    "\\\n",
    "Theres two method of doing this, one method is the easy way of importing a library and everything could be done in 4 lines of code and of course the hard way which is doing it using matplotlib, and we will doing both method, because where is the fun in just importing a library that could do that in two lines\n",
    "\n",
    "#### Before proceeding, please install the required libraries using\n",
    "``pip install image_slicer`` \\\n",
    "``pip install opencv-python`` \\\n",
    "``pip install pillow`` \\\n",
    "``pip3 install tk``\n",
    "\n",
    "required libraries are: image_slicer, opencv, pillow, tkinter"
   ]
  },
  {
   "cell_type": "markdown",
   "id": "94b89d67",
   "metadata": {},
   "source": [
    "#### Imports"
   ]
  },
  {
   "cell_type": "code",
   "execution_count": 214,
   "id": "e2f9dc2a",
   "metadata": {},
   "outputs": [],
   "source": [
    "%matplotlib inline\n",
    "import numpy as np\n",
    "from matplotlib import pyplot as plt\n",
    "import matplotlib\n",
    "import math\n",
    "\n",
    "from tkinter import *\n",
    "from tkinter import ttk\n",
    "from tkinter import filedialog as fd\n",
    "from tkinter.messagebox import showinfo\n",
    "\n",
    "import os\n",
    "import cv2\n",
    "from image_slicer import slice\n",
    "from PIL import Image, ImageTk"
   ]
  },
  {
   "cell_type": "markdown",
   "id": "767dc9ba",
   "metadata": {},
   "source": [
    "## Image Spliter\n",
    "\\\n",
    "If the image to compare is one picture we have to split the image using a image-slicer library \\\n",
    "We have to install the image_slicer library using \\\n",
    "``pip install image_slicer``"
   ]
  },
  {
   "cell_type": "code",
   "execution_count": 187,
   "id": "0773362d",
   "metadata": {},
   "outputs": [],
   "source": [
    "def slicer(path):\n",
    "    # Path of the image\n",
    "\n",
    "    folder = \"Split\" #<--- if no folder leave empty\n",
    "    \n",
    "    global fileName\n",
    "\n",
    "    fileName = os.path.basename(path)\n",
    "\n",
    "    size = cv2.imread(path).shape\n",
    "    \n",
    "    global newFile\n",
    "    global newFile2\n",
    "\n",
    "    # if Image height is longer than the width, it rotates the image and slices then rotates it back automatically\n",
    "\n",
    "    if size[0] > size[1]:\n",
    "        image_norm = cv2.rotate(cv2.imread(path), cv2.ROTATE_90_CLOCKWISE)\n",
    "        cv2.imwrite(folder + \"/\" + \"rotated.png\", image_norm)\n",
    "        slice(folder + \"/\" + \"rotated.png\", 2)\n",
    "        os.remove(folder + \"/\" + \"rotated.png\")\n",
    "\n",
    "        image_norm = cv2.rotate(cv2.imread(folder + \"/\" + \"rotated_01_01.png\"), cv2.ROTATE_90_COUNTERCLOCKWISE)\n",
    "        cv2.imwrite(folder + \"/\" + \"rotated_01_01.png\", image_norm)\n",
    "        image_norm2 = cv2.rotate(cv2.imread(folder + \"/\" + \"rotated_01_02.png\"), cv2.ROTATE_90_COUNTERCLOCKWISE)\n",
    "        cv2.imwrite(folder + \"/\" + \"rotated_01_02.png\", image_norm2)\n",
    "\n",
    "        oldFile = os.path.join(folder, \"rotated_01_01.png\")\n",
    "        oldFile2 = os.path.join(folder, \"rotated_01_02.png\")\n",
    "        newFile = os.path.join(folder, os.path.splitext(fileName)[0]+\"_01_01.png\")\n",
    "        newFile2 = os.path.join(folder, os.path.splitext(fileName)[0]+\"_01_02.png\")\n",
    "\n",
    "        os.rename(oldFile, newFile)\n",
    "        os.rename(oldFile2, newFile2)\n",
    "    else:\n",
    "        newFile = os.path.join(folder, os.path.splitext(fileName)[0]+\"_01_01.png\")\n",
    "        newFile2 = os.path.join(folder, os.path.splitext(fileName)[0]+\"_01_02.png\")\n",
    "        slice(folder + \"/\" + fileName, 2)\n",
    "    \n",
    "    return None\n",
    "\n",
    "# Slice the image into 2\n",
    "\n",
    "# slicer(\"Split/image.jpeg\")"
   ]
  },
  {
   "cell_type": "markdown",
   "id": "cfbd03cd",
   "metadata": {},
   "source": [
    "### Now we have two images\n",
    "\n",
    "<table><tr>\n",
    "<td> <img src=\"Split/image_01_01.png\" alt=\"Drawing\" style=\"width: 250px;\"/> </td>\n",
    "<td> <img src=\"Split/image_01_02.png\" alt=\"Drawing\" style=\"width: 250px;\"/> </td>\n",
    "</tr></table>"
   ]
  },
  {
   "cell_type": "markdown",
   "id": "1ae5a199",
   "metadata": {},
   "source": [
    "## Image Aligner\n",
    "\\\n",
    "So the problem with the image spliter is that if the stacked image is not splited equally due to having spaces between the two pictures, to fix this problem we will use crop the image so its **as aligned as possible**\n",
    "\n",
    "Please install the opencv library using, before proceeding\\\n",
    "``pip install opencv-python`` and\\\n",
    "``pip install pillow``"
   ]
  },
  {
   "cell_type": "markdown",
   "id": "7beb1bc2",
   "metadata": {},
   "source": [
    "### Implementation"
   ]
  },
  {
   "cell_type": "code",
   "execution_count": 104,
   "id": "0d5073bf",
   "metadata": {},
   "outputs": [],
   "source": [
    "def trimmer(x, y, pathTrim=\"cache/trim.png\", pathTrim2=\"cache/trim2.png\"):\n",
    "    width, height = image.size\n",
    "    im1 = image.crop((0,y,(width-x),height))\n",
    "    im2 = image2.crop((x,0,width,(height-y)))\n",
    "    im1.save(pathTrim)\n",
    "    im2.save(pathTrim2)\n",
    "    return None"
   ]
  },
  {
   "cell_type": "code",
   "execution_count": 105,
   "id": "9162185e",
   "metadata": {},
   "outputs": [],
   "source": [
    "# Cost is the difference between two images\n",
    "\n",
    "def cost(img1, img2):\n",
    "    # Take the absolute difference of the images\n",
    "    res = cv2.absdiff(img1, img2)\n",
    "\n",
    "    # Convert the result to integer type\n",
    "    res = res.astype(np.uint8)\n",
    "    \n",
    "    # Convert to percentage\n",
    "    percentage = (np.count_nonzero(res) * 100)/ res.size\n",
    "    \n",
    "    return percentage\n",
    "    \n",
    "def iterateBestX():\n",
    "    best = 0\n",
    "    curCost = cost(agl,agl2)\n",
    "    \n",
    "    while(True):\n",
    "        trimmer(best+1, 0)\n",
    "        newagl = cv2.imread(\"cache/trim.png\")\n",
    "        newagl2 = cv2.imread(\"cache/trim2.png\")\n",
    "        newCost = cost(newagl, newagl2)\n",
    "        if(newCost < curCost):\n",
    "            curCost = newCost\n",
    "            best+=1\n",
    "        else:\n",
    "            break\n",
    "    return best\n",
    "\n",
    "def iterateBestY():\n",
    "    best = 0\n",
    "    curCost = cost(agl,agl2)\n",
    "    \n",
    "    while(True):\n",
    "        trimmer(0, best+1)\n",
    "        newagl = cv2.imread(\"cache/trim.png\")\n",
    "        newagl2 = cv2.imread(\"cache/trim2.png\")\n",
    "        newCost = cost(newagl, newagl2)\n",
    "        if(newCost < curCost):\n",
    "            curCost = newCost\n",
    "            best+=1\n",
    "        else:\n",
    "            break\n",
    "    return best\n",
    "\n",
    "# bestTrimX = iterateBestX() #This two step is a bit slow\n",
    "\n",
    "# agl = cv2.imread(\"cache/trim.png\")\n",
    "# agl2 = cv2.imread(\"cache/trim2.png\")\n",
    "\n",
    "# bestTrimY = iterateBestY()\n",
    "\n",
    "# print(\"Best trim on the X axis is: \" + str(bestTrimX) + \"\\nBest trim on the Y axis is: \" + str(bestTrimY) + \"\\nImage alignment optimisation completed\")\n",
    "# trimmer(bestTrimX, bestTrimY)"
   ]
  },
  {
   "cell_type": "code",
   "execution_count": 126,
   "id": "dbbf6239",
   "metadata": {},
   "outputs": [],
   "source": [
    "def align():\n",
    "    global image\n",
    "    global image2\n",
    "    image = PIL.Image.open(newFile)\n",
    "    image2 = PIL.Image.open(newFile2)\n",
    "    trimmer(0, 0)\n",
    "    global agl\n",
    "    global agl2\n",
    "    agl = cv2.imread(\"cache/trim.png\")\n",
    "    agl2 = cv2.imread(\"cache/trim.png\")\n",
    "    bestTrimX, bestTrimY = iterateBestX(), iterateBestY()\n",
    "#     print(\"Best trim on the X axis is: \" + str(bestTrimX) + \"\\nBest trim on the Y axis is: \" + str(bestTrimY) + \"\\nImage alignment optimisation completed\")\n",
    "    trimmer(bestTrimX, bestTrimY, pathToFile1, pathToFile2)\n",
    "    \n",
    "# align()"
   ]
  },
  {
   "cell_type": "markdown",
   "id": "bd5ac2e6",
   "metadata": {},
   "source": [
    "### Path to the two file"
   ]
  },
  {
   "cell_type": "code",
   "execution_count": 46,
   "id": "23e92fc3",
   "metadata": {},
   "outputs": [],
   "source": [
    "img1path = \"cache/trim.png\"\n",
    "img2path = \"cache/trim2.png\""
   ]
  },
  {
   "cell_type": "markdown",
   "id": "fd73a37f",
   "metadata": {},
   "source": [
    "## Method 1 - the easy way\n",
    "(props to geeksforgeeks)\\\n",
    "We will be using a library called \"Pillow\""
   ]
  },
  {
   "cell_type": "markdown",
   "id": "d910bf4a",
   "metadata": {},
   "source": [
    "1. Dont forget to install pillow using\n",
    "``pip install pillow``"
   ]
  },
  {
   "cell_type": "markdown",
   "id": "dfefef4f",
   "metadata": {},
   "source": [
    "### Implementation"
   ]
  },
  {
   "cell_type": "code",
   "execution_count": 215,
   "id": "0ee8626b",
   "metadata": {},
   "outputs": [],
   "source": [
    "# The case that you have two seperate images to compare\n",
    "\n",
    "img1 = Image.open(\"Spot1/1img.jpeg\")\n",
    "img2 = Image.open(\"Spot1/2img.jpeg\")"
   ]
  },
  {
   "cell_type": "code",
   "execution_count": 216,
   "id": "d0cb75f3",
   "metadata": {},
   "outputs": [],
   "source": [
    "# finding difference\n",
    "\n",
    "diff = ImageChops.difference(img1, img2)\n",
    "  \n",
    "# showing the difference\n",
    "\n",
    "diff.save(\"Results/method_1_result.jpeg\")"
   ]
  },
  {
   "cell_type": "markdown",
   "id": "4eaa4fbf",
   "metadata": {},
   "source": [
    "#### Result\n",
    "\n",
    "<table><tr>\n",
    "<td> <img src=\"Spot1/1img.jpeg\" alt=\"Drawing\" style=\"width: 250px;\"/> </td>\n",
    "<td> <img src=\"Results/method_1_result.jpeg\" alt=\"Drawing\" style=\"width: 250px;\"/> </td>\n",
    "<td> <img src=\"Spot1/2img.jpeg\" alt=\"Drawing\" style=\"width: 250px;\"/> </td>\n",
    "</tr></table>"
   ]
  },
  {
   "cell_type": "markdown",
   "id": "4932e7fb",
   "metadata": {},
   "source": [
    "I know the output is a bit hard to see but you can match it with the original image to see the difference"
   ]
  },
  {
   "cell_type": "markdown",
   "id": "2936f06b",
   "metadata": {},
   "source": [
    "## Method 2 - The matplotlib way\n",
    "Mario but find the difference \\\n",
    "why am I still here? just to suffer"
   ]
  },
  {
   "cell_type": "markdown",
   "id": "b45f3f1e",
   "metadata": {},
   "source": [
    "### Implementation\n",
    "\n",
    "We are looping over all the pixel of both images and we have the ``isSame`` function to check whether the pixel between the two image is within a specific range (so that it is similar) then ``edge`` function to create the picture to show the difference."
   ]
  },
  {
   "cell_type": "code",
   "execution_count": 131,
   "id": "7e23fd9e",
   "metadata": {},
   "outputs": [],
   "source": [
    "# img1 = plt.imread(img1path)\n",
    "# img2 = plt.imread(img2path)\n",
    "\n",
    "# isSame function returns boolean if the pixel is the same\n",
    "\n",
    "def isSame(x, y):\n",
    "    diff = img1[y,x]-img2[y,x]\n",
    "    return all(abs(diff) < 0.2) # <---  Adjust this for sensitivity\n",
    "\n",
    "# edge function to create the edge\n",
    "\n",
    "def edge(img):\n",
    "    ny, nx, _ = img.shape\n",
    "    ret = np.zeros((ny, nx))\n",
    "    for y in range(ny):\n",
    "        for x in range(nx):\n",
    "#             ret[y,x] = 1\n",
    "            ret[y, x] = 0 if isSame(x,y) else 1\n",
    "    return ret"
   ]
  },
  {
   "cell_type": "markdown",
   "id": "00c9e0d9",
   "metadata": {},
   "source": [
    "### Highlighting the contour and overlaying it into the original image\n",
    "This part is total pain"
   ]
  },
  {
   "cell_type": "code",
   "execution_count": 188,
   "id": "ee9f5ed7",
   "metadata": {},
   "outputs": [],
   "source": [
    "def highlight():\n",
    "    img = cv2.imread(\"cache/color_diff.png\")\n",
    "\n",
    "    img = cv2.cvtColor(img, cv2.COLOR_BGR2RGB)\n",
    "\n",
    "    gray = cv2.cvtColor(img, cv2.COLOR_RGB2GRAY)\n",
    "\n",
    "    # create a binary thresholded image\n",
    "    _, binary = cv2.threshold(gray, 200, 255, cv2.THRESH_BINARY_INV)\n",
    "\n",
    "    size = img1.shape\n",
    "\n",
    "    binary = cv2.resize(binary, (size[1], size[0]))\n",
    "\n",
    "#     plt.imshow(binary, cmap=\"gray\")\n",
    "    # plt.show()\n",
    "\n",
    "    # find the contours from the thresholded image\n",
    "    contours, hierarchy = cv2.findContours(binary, cv2.RETR_TREE, cv2.CHAIN_APPROX_SIMPLE)\n",
    "    # draw all contours\n",
    "    image2 = cv2.drawContours(img2, contours, -1, (0, 255, 0), 2)\n",
    "    # print(image.shape)\n",
    "\n",
    "    # show the image with the drawn contours\n",
    "    plt.figure(figsize = (15,10))\n",
    "    plt.imshow(image2)\n",
    "    plt.axis('off')\n",
    "    plt.tight_layout()\n",
    "\n",
    "    #Saving the file\n",
    "    plt.savefig('Results/' + fileName + '_result_diff.png', bbox_inches='tight', pad_inches=0)\n",
    "    plt.close()\n",
    "#     plt.show()"
   ]
  },
  {
   "cell_type": "code",
   "execution_count": 181,
   "id": "8dcb6935",
   "metadata": {},
   "outputs": [],
   "source": [
    "def SpotDiff():\n",
    "    global img1\n",
    "    global img2\n",
    "    img1 = plt.imread(pathToFile1)\n",
    "    img2 = plt.imread(pathToFile2)\n",
    "    \n",
    "    plt.figure(figsize = (15,10))\n",
    "    edges = edge(img1)\n",
    "    plt.imsave('cache/color_diff.png', edges)\n",
    "    \n",
    "    highlight()\n",
    "    print(\"yes\")\n",
    "    return None"
   ]
  },
  {
   "cell_type": "markdown",
   "id": "e1de6da1",
   "metadata": {},
   "source": [
    "### Final Product\n",
    "\n",
    "<table><tr>\n",
    "    <td> <img src=\"Spot1/1img.jpeg\" alt=\"Drawing\" style=\"width: 250px;\"/> </td>\n",
    "    <td> <img src=\"Spot1/2img.jpeg\" alt=\"Drawing\" style=\"width: 250px;\"/> </td>\n",
    "    <td> <img src=\"Results/sushi_result_diff.png\" alt=\"Drawing\" style=\"width: 250px;\"/> </td>\n",
    "</tr></table>"
   ]
  },
  {
   "cell_type": "markdown",
   "id": "0af469ea",
   "metadata": {},
   "source": [
    "<table><tr>\n",
    "    <td> <img src=\"Split/image_01_01.png\" alt=\"Drawing\" style=\"width: 250px;\"/> </td>\n",
    "    <td> <img src=\"Split/image_01_02.png\" alt=\"Drawing\" style=\"width: 250px;\"/> </td>\n",
    "    <td> <img src=\"Results/donut_result_diff.png\" alt=\"Drawing\" style=\"width: 250px;\"/> </td>\n",
    "</tr></table>"
   ]
  },
  {
   "cell_type": "markdown",
   "id": "c4328d8f",
   "metadata": {},
   "source": [
    "<table><tr>\n",
    "    <td> <img src=\"Split/image3_01_01.png\" alt=\"Drawing\" style=\"width: 250px;\"/> </td>\n",
    "    <td> <img src=\"Split/image3_01_02.png\" alt=\"Drawing\" style=\"width: 250px;\"/> </td>\n",
    "    <td> <img src=\"Results/bicycle_result_diff.png\" alt=\"Drawing\" style=\"width: 250px;\"/> </td>\n",
    "</tr></table>"
   ]
  },
  {
   "cell_type": "markdown",
   "id": "007a6a83",
   "metadata": {},
   "source": [
    "## Problems with the program\n",
    "\n",
    "### Image spliter\n",
    "\n",
    "So the problem with the image spliter is that if the stacked image is not splited equally due to having spaces between the two pictures the image detector becomes buggy and causes anomalys as shown in the car spot the difference images\n",
    "\n",
    "### The detection implementation\n",
    "\n",
    "If two images are not exactly aligned due to the image spliter it causes the anomaly as stated above, Ive tried for too long to automatically shift the image so it aligns but failed.\n",
    "\n",
    "I think to fix this problem the use has to automatically adjust the threshold of pixel detection above but I find that the sweet spot lies between 0.2 and 0.1.\n",
    "\n",
    "When the image is aligned correctly (shown by the sushi image) the p\n",
    "\n",
    "## Solution to the problems\n",
    "\n",
    "### Automatic aligner\n",
    "\n",
    "Through blood sweat and tears, I've created an image aligner to minimise anomaly created through the image splitting process"
   ]
  },
  {
   "cell_type": "markdown",
   "id": "aa884143",
   "metadata": {},
   "source": [
    "# GUI\n",
    "\n",
    "### Implementation"
   ]
  },
  {
   "cell_type": "code",
   "execution_count": 232,
   "id": "3134a04c",
   "metadata": {},
   "outputs": [
    {
     "name": "stderr",
     "output_type": "stream",
     "text": [
      "Clipping input data to the valid range for imshow with RGB data ([0..1] for floats or [0..255] for integers).\n"
     ]
    },
    {
     "name": "stdout",
     "output_type": "stream",
     "text": [
      "yes\n",
      "Results/image.jpeg_result_diff.png\n"
     ]
    },
    {
     "data": {
      "text/plain": [
       "<Figure size 1080x720 with 0 Axes>"
      ]
     },
     "metadata": {},
     "output_type": "display_data"
    }
   ],
   "source": [
    "matplotlib.use('Agg')\n",
    "\n",
    "root = Tk()\n",
    "\n",
    "def center_window(width, height):\n",
    "    # get screen width and height\n",
    "    screen_width = root.winfo_screenwidth()\n",
    "    screen_height = root.winfo_screenheight()\n",
    "\n",
    "    # calculate position x and y coordinates\n",
    "    x = (screen_width/2) - (width/2)\n",
    "    y = (screen_height/2) - (height/2)\n",
    "    root.geometry('%dx%d+%d+%d' % (width, height, x, y))\n",
    "    \n",
    "center_window(root.winfo_screenwidth()/2, root.winfo_screenheight()/2)\n",
    "root.update()\n",
    "\n",
    "def select_file_1():\n",
    "    filetypes = (\n",
    "        ('All files', '*.*'),\n",
    "#         ('text files', '*.txt')\n",
    "    )\n",
    "\n",
    "    filename = fd.askopenfilename(\n",
    "        title='Open a file',\n",
    "        initialdir='',\n",
    "        filetypes=filetypes)\n",
    "    \n",
    "    global pathToFile1\n",
    "    pathToFile1 = filename\n",
    "\n",
    "    Label(root, text = pathToFile1,wraplength=250).place(\n",
    "        x = root.winfo_width()/3-150,y = root.winfo_height()/2.5+100)\n",
    "    \n",
    "def select_file_2():\n",
    "    filetypes = (\n",
    "        ('All files', '*.*'),\n",
    "#         ('text files', '*.txt')\n",
    "    )\n",
    "\n",
    "    filename = fd.askopenfilename(\n",
    "        title='Open a file',\n",
    "        initialdir='',\n",
    "        filetypes=filetypes)\n",
    "    \n",
    "    global pathToFile2\n",
    "    pathToFile2 = filename\n",
    "\n",
    "    Label(root, text = pathToFile2,wraplength=250).place(\n",
    "        x = root.winfo_width()/2+50,y = root.winfo_height()/2.5+100)\n",
    "    \n",
    "def select_file_3():\n",
    "    filetypes = (\n",
    "        ('All files', '*.*'),\n",
    "#         ('text files', '*.txt')\n",
    "    )\n",
    "\n",
    "    filename = fd.askopenfilename(\n",
    "        title='Open a file',\n",
    "        initialdir='',\n",
    "        filetypes=filetypes)\n",
    "    \n",
    "    global pathToSlice\n",
    "    pathToSlice = filename\n",
    "\n",
    "    Label(root, text = filename,wraplength=250).place(\n",
    "        x = root.winfo_width()/3-150,y = root.winfo_height()/10+100)\n",
    "    \n",
    "def slicing():\n",
    "    slicer(pathToSlice)\n",
    "    \n",
    "    global pathToFile1\n",
    "    pathToFile1 = newFile\n",
    "    \n",
    "    global pathToFile2\n",
    "    pathToFile2 = newFile2\n",
    "    \n",
    "    Label(root, text = newFile,wraplength=250).place(\n",
    "        x = root.winfo_width()/3-150,y = root.winfo_height()/2.5+100)\n",
    "    \n",
    "    Label(root, text = newFile2,wraplength=250).place(\n",
    "        x = root.winfo_width()/2+50,y = root.winfo_height()/2.5+100)\n",
    "    \n",
    "    Label(root, text = \"Image Sliced\",wraplength=250).place(\n",
    "        x = root.winfo_width()/2+50,y = root.winfo_height()/10+100)\n",
    "    \n",
    "def aligner():\n",
    "    message = \"Image alignment optimisation completed\"\n",
    "    try:\n",
    "        align()\n",
    "    except:\n",
    "        message = \"an Error occured\"\n",
    "    finally:\n",
    "        Label(root, text = message,wraplength=250).place(\n",
    "            x = root.winfo_width()/3-150,y = root.winfo_height()/1.4+100)\n",
    "    \n",
    "def FindDiff():\n",
    "    message = \"Completed\"\n",
    "    try:\n",
    "        SpotDiff()\n",
    "    except:\n",
    "        message = \"an Error occured\"\n",
    "    finally:\n",
    "        Label(root, text = message,wraplength=250).place(\n",
    "            x = root.winfo_width()/2+50,y = root.winfo_height()/1.4+100)\n",
    "        print('Results/' + fileName + '_result_diff.png')\n",
    "\n",
    "def create():\n",
    "    win = Toplevel(root)\n",
    "    win.title(\"Child Window\")\n",
    "    img = ImageTk.PhotoImage(Image.open('Results/' + fileName + '_result_diff.png'))\n",
    "    Label(win, image = img).pack()\n",
    "    \n",
    "def open_img():\n",
    "    global img\n",
    "    img = ImageTk.PhotoImage(Image.open('Results/' + fileName + '_result_diff.png'))\n",
    "    panel = Label(root, image=img)\n",
    "    panel.pack(side=\"bottom\", fill=\"both\")\n",
    "    \n",
    "\n",
    "# select button for slicing\n",
    "select_slice = Button(root, text='1. Select for Slicing', command=select_file_3,\n",
    "                        height = int(root.winfo_width()/200), width = int(root.winfo_height()/20))\n",
    "select_slice.place(x= int(root.winfo_width()/3-150), y= int(root.winfo_height()/10))\n",
    "\n",
    "\n",
    "# button for slicing\n",
    "slice_button = Button(root, text='2. Slice', command=slicing,\n",
    "                        height = int(root.winfo_width()/200), width = int(root.winfo_height()/20))\n",
    "slice_button.place(x= int(root.winfo_width()/2+50), y= int(root.winfo_height()/10))\n",
    "    \n",
    "    \n",
    "# select button first picture\n",
    "select_button1 = Button(root, text='3. Select #1 Picture', command=select_file_1, \n",
    "                        height = int(root.winfo_width()/200), width = int(root.winfo_height()/20))\n",
    "select_button1.place(x= int(root.winfo_width()/3-150), y= int(root.winfo_height()/2.5))\n",
    "\n",
    "\n",
    "# select button second picture\n",
    "select_button2 = Button(root, text='4. Select #2 Picture', command=select_file_2,\n",
    "                        height = int(root.winfo_width()/200), width = int(root.winfo_height()/20))\n",
    "select_button2.place(x= int(root.winfo_width()/2+50), y= int(root.winfo_height()/2.5))\n",
    "\n",
    "\n",
    "# align button\n",
    "align_button = Button(root, text='5. Align', command=aligner, \n",
    "                        height = int(root.winfo_width()/200), width = int(root.winfo_height()/20))\n",
    "align_button.place(x= int(root.winfo_width()/3-150), y= int(root.winfo_height()/1.4))\n",
    "\n",
    "\n",
    "# find diff button\n",
    "diff_button = Button(root, text='6. Find Diff', command=FindDiff,\n",
    "                        height = int(root.winfo_width()/200), width = int(root.winfo_height()/20))\n",
    "diff_button.place(x= int(root.winfo_width()/2+50), y= int(root.winfo_height()/1.4))\n",
    "\n",
    "\n",
    "# print(root.winfo_width(), root.winfo_height())\n",
    "\n",
    "mainloop()"
   ]
  },
  {
   "cell_type": "code",
   "execution_count": null,
   "id": "c5d7b5e5",
   "metadata": {},
   "outputs": [],
   "source": []
  }
 ],
 "metadata": {
  "kernelspec": {
   "display_name": "Python 3 (ipykernel)",
   "language": "python",
   "name": "python3"
  },
  "language_info": {
   "codemirror_mode": {
    "name": "ipython",
    "version": 3
   },
   "file_extension": ".py",
   "mimetype": "text/x-python",
   "name": "python",
   "nbconvert_exporter": "python",
   "pygments_lexer": "ipython3",
   "version": "3.8.10"
  }
 },
 "nbformat": 4,
 "nbformat_minor": 5
}
